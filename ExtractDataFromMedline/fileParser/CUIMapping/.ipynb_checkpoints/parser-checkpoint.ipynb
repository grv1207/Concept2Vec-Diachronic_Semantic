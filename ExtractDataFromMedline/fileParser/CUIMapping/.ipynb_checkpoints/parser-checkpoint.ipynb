{
 "cells": [
  {
   "cell_type": "code",
   "execution_count": 144,
   "metadata": {},
   "outputs": [
    {
     "name": "stdout",
     "output_type": "stream",
     "text": [
      "/home/gaurav/miniconda3/envs/p35/bin/python\n"
     ]
    }
   ],
   "source": [
    "import sys\n",
    "print(sys.executable)\n",
    "import re\n",
    "from collections import OrderedDict"
   ]
  },
  {
   "cell_type": "code",
   "execution_count": 2,
   "metadata": {},
   "outputs": [
    {
     "name": "stdout",
     "output_type": "stream",
     "text": [
      "3.5.5\n"
     ]
    }
   ],
   "source": [
    "import platform\n",
    " \n",
    "print(platform.python_version())"
   ]
  },
  {
   "cell_type": "code",
   "execution_count": null,
   "metadata": {},
   "outputs": [],
   "source": []
  },
  {
   "cell_type": "code",
   "execution_count": 3,
   "metadata": {},
   "outputs": [],
   "source": [
    "from nltk.tokenize import sent_tokenize, word_tokenize"
   ]
  },
  {
   "cell_type": "code",
   "execution_count": 5,
   "metadata": {},
   "outputs": [],
   "source": [
    "import commonFunctions as cf"
   ]
  },
  {
   "cell_type": "code",
   "execution_count": 6,
   "metadata": {},
   "outputs": [],
   "source": [
    "dd = cf.loadDictionary('/media/gaurav/Elements/Thesis/data/MMO/CompleteData/files/processed/sprc.text.out_01.bin')"
   ]
  },
  {
   "cell_type": "code",
   "execution_count": 12,
   "metadata": {},
   "outputs": [
    {
     "data": {
      "text/plain": [
       "['16691646', '16691647', '16691648', '16691649', '16691650']"
      ]
     },
     "execution_count": 12,
     "metadata": {},
     "output_type": "execute_result"
    }
   ],
   "source": [
    "list(dd.keys())[:5]"
   ]
  },
  {
   "cell_type": "code",
   "execution_count": 181,
   "metadata": {},
   "outputs": [],
   "source": [
    "varX = dd['16691654']['ti.1 | On the Necessity of Employing Greater Accuracy in Ascertaining and Expressing       the Degree of Acuteness of Vision.']"
   ]
  },
  {
   "cell_type": "code",
   "execution_count": 184,
   "metadata": {},
   "outputs": [
    {
     "data": {
      "text/plain": [
       "[('On', ['C1720176', [(0, 2)]]),\n",
       " ('employing', ['C0557351', [(20, 9)]]),\n",
       " ('Greater', ['C1704243', [(30, 7)]]),\n",
       " ('Accuracy', ['C0443131', [(38, 8)]]),\n",
       " ('Degree', ['C0441889', [(88, 6)]]),\n",
       " ('Acuteness', ['C0205178', [(98, 9)]]),\n",
       " ('Vision', ['C0042789', [(111, 6)]]),\n",
       " ('degree', ['C1561545', [(88, 6)]])]"
      ]
     },
     "execution_count": 184,
     "metadata": {},
     "output_type": "execute_result"
    }
   ],
   "source": [
    "list(varX.items())"
   ]
  },
  {
   "cell_type": "code",
   "execution_count": 156,
   "metadata": {},
   "outputs": [],
   "source": [
    "x = [('On', ['C1720176', [(0, 2)]]),\n",
    "                           ('employing', ['C0557351', [(20, 9)]]),\n",
    "                           ('Greater', ['C1704243', [(30, 7)]]),\n",
    "                           ('Accuracy', ['C0443131', [(38, 8)]]),\n",
    "                           ('Degree', ['C0441889', [(88, 6)]]),\n",
    "                           ('Acuteness', ['C0205178', [(98, 9)]]),\n",
    "                           ('Vision', ['C0042789', [(111, 6)]]),\n",
    "                           ('degree', ['C1561545', [(88, 6)]])]"
   ]
  },
  {
   "cell_type": "code",
   "execution_count": 141,
   "metadata": {},
   "outputs": [],
   "source": [
    "line = 'On the Necessity of Employing Greater Accuracy in Ascertaining and Expressing       the Degree of Acuteness of Vision.'"
   ]
  },
  {
   "cell_type": "code",
   "execution_count": 143,
   "metadata": {},
   "outputs": [
    {
     "data": {
      "text/plain": [
       "'On the Necessity of Employing Greater Accuracy in Ascertaining and Expressing       the C1561545 of Acuteness oC0042789on.'"
      ]
     },
     "execution_count": 143,
     "metadata": {},
     "output_type": "execute_result"
    }
   ],
   "source": [
    "c, pos = ['C0042789', [(111, 6)]]\n",
    "o, l = pos[0]\n",
    "line = line[:o]+c+line[o+l:]\n",
    "line"
   ]
  },
  {
   "cell_type": "code",
   "execution_count": 131,
   "metadata": {},
   "outputs": [
    {
     "data": {
      "text/plain": [
       "' of Acuteness of Vision.'"
      ]
     },
     "execution_count": 131,
     "metadata": {},
     "output_type": "execute_result"
    }
   ],
   "source": [
    "line[88+6:]"
   ]
  },
  {
   "cell_type": "code",
   "execution_count": 53,
   "metadata": {},
   "outputs": [],
   "source": [
    "kk=dd['16691646']"
   ]
  },
  {
   "cell_type": "code",
   "execution_count": 56,
   "metadata": {},
   "outputs": [
    {
     "name": "stdout",
     "output_type": "stream",
     "text": [
      "Statement ['C1710187', [(0, 9)]]\n",
      "Cases ['C0868928', [(13, 5)]]\n",
      "GONORRHEA ['C0018081', [(22, 11)]]\n",
      "purulent_ophthalmia ['C0259800', [(38, 19)]]\n",
      "Treated ['C1522326', [(58, 7)]]\n",
      "U_S ['C0041703', [(90, 1), (93, 1)]]\n",
      "Army ['C0680778', [(96, 4)]]\n",
      "EYE ['C0015392', [(102, 3)]]\n",
      "?Eye ['C1280202', [(102, 3)]]\n",
      "EAR ['C0013443', [(110, 3)]]\n",
      "HOSPITAL ['C0019994', [(114, 8)]]\n",
      "Hospital ['C1510665', [(114, 8)]]\n",
      "Ear ['C0521421', [(110, 3)]]\n",
      "Chicago ['C0008044', [(124, 7)]]\n",
      "Illinois ['C0020898', [(133, 8)]]\n",
      "With ['C0332287', [(143, 4)]]\n",
      "Special ['C0205555', [(148, 7)]]\n",
      "Report ['C0684224', [(162, 6)]]\n",
      "treatment_nos ['C0001554', [(172, 9)]]\n",
      "treatment ['C0039798', [(172, 9)]]\n",
      "Treatment ['C0087111', [(172, 9)]]\n",
      "TREATMENT ['C3538994', [(172, 9)]]\n",
      "Employed ['C0557351', [(182, 8)]]\n",
      "C1710187 of C0868928 of C0018081 and C0259800 C1522326 in the desmarres C0041703 C0680778 C0015392 and C0013443 C0019994 C0008044 C0020898 C0332287 C0205555 C0684224 of C0001554 C0557351 \n"
     ]
    }
   ],
   "source": [
    " newSentenceList = []\n",
    "for setencekey in dd['16691646']:  # completeDict['16691646']\n",
    "        setenceID = setencekey.split('|')[0].strip(' ')\n",
    "        sentence = setencekey.split('|')[1].strip(' ').lower()\n",
    "        newsentence = sentence\n",
    "        for conceptName, values in dictValue[setencekey].items():\n",
    "            print(conceptName,values)\n",
    "            newsentence = mapSentenceWithCUI(sentence, values, newsentence)\n",
    "\n",
    "        modifiedSentence = re.sub('\\W+', ' ', newsentence)\n",
    "        print(modifiedSentence)\n",
    "        #newSentenceList.append(str('16691646')+'|'+setenceID+'| '+modifiedSentence)\n"
   ]
  },
  {
   "cell_type": "code",
   "execution_count": 91,
   "metadata": {
    "collapsed": true
   },
   "outputs": [
    {
     "name": "stdout",
     "output_type": "stream",
     "text": [
      "statement of cases of gonorrhoeal and purulent ophthalmia treated in the       desmarres (u. s. army) eye and ear hospital, chicago, illinois, with special       report of treatment employed.\n",
      "Statement ['C1710187', [(0, 9)]]\n",
      "[0] 9\n",
      "statement\n",
      "Cases ['C0868928', [(13, 5)]]\n",
      "[13] 5\n",
      "cases\n",
      "GONORRHEA ['C0018081', [(22, 11)]]\n",
      "[22] 11\n",
      "gonorrhoeal\n",
      "purulent_ophthalmia ['C0259800', [(38, 19)]]\n",
      "[38] 19\n",
      "purulent ophthalmia\n",
      "Treated ['C1522326', [(58, 7)]]\n",
      "[58] 7\n",
      "treated\n",
      "U_S ['C0041703', [(90, 1), (93, 1)]]\n",
      "[90] 1\n",
      "u\n",
      "Army ['C0680778', [(96, 4)]]\n",
      "[96] 4\n",
      "army\n",
      "EYE ['C0015392', [(102, 3)]]\n",
      "[102] 3\n",
      "eye\n",
      "?Eye ['C1280202', [(102, 3)]]\n",
      "[102] 3\n",
      "eye\n",
      "EAR ['C0013443', [(110, 3)]]\n",
      "[110] 3\n",
      "ear\n",
      "HOSPITAL ['C0019994', [(114, 8)]]\n",
      "[114] 8\n",
      "hospital\n",
      "Hospital ['C1510665', [(114, 8)]]\n",
      "[114] 8\n",
      "hospital\n",
      "Ear ['C0521421', [(110, 3)]]\n",
      "[110] 3\n",
      "ear\n",
      "Chicago ['C0008044', [(124, 7)]]\n",
      "[124] 7\n",
      "chicago\n",
      "Illinois ['C0020898', [(133, 8)]]\n",
      "[133] 8\n",
      "illinois\n",
      "With ['C0332287', [(143, 4)]]\n",
      "[143] 4\n",
      "with\n",
      "Special ['C0205555', [(148, 7)]]\n",
      "[148] 7\n",
      "special\n",
      "Report ['C0684224', [(162, 6)]]\n",
      "[162] 6\n",
      "report\n",
      "treatment_nos ['C0001554', [(172, 9)]]\n",
      "[172] 9\n",
      "treatment\n",
      "treatment ['C0039798', [(172, 9)]]\n",
      "[172] 9\n",
      "treatment\n",
      "Treatment ['C0087111', [(172, 9)]]\n",
      "[172] 9\n",
      "treatment\n",
      "TREATMENT ['C3538994', [(172, 9)]]\n",
      "[172] 9\n",
      "treatment\n",
      "Employed ['C0557351', [(182, 8)]]\n",
      "[182] 8\n",
      "employed\n"
     ]
    }
   ],
   "source": [
    "for setencekey in dd['16691646']:\n",
    "    #print(setencekey)\n",
    "    setenceID = setencekey.split('|')[0].strip(' ')\n",
    "    sentence = setencekey.split('|')[1].strip(' ').lower()\n",
    "    newsentence = sentence\n",
    "    #sentenceList = word_tokenize(sentence)\n",
    "    \n",
    "    print(sentence)\n",
    "    for conceptName, conceptAttribute in dictValue[setencekey].items():\n",
    "        worCount = 0\n",
    "        wordOff = []\n",
    "        print(conceptName,conceptAttribute)\n",
    "        wordOff.append(conceptAttribute[1][0][0])\n",
    "        worCount = conceptAttribute[1][0][1]\n",
    "        print(wordOff,worCount)\n",
    "        print(sentence[wordOff[0]:wordOff[-1] + worCount])\n",
    "    #for word in sentenceList:\n",
    "        #for word.lower in  ConceptDict."
   ]
  },
  {
   "cell_type": "code",
   "execution_count": 92,
   "metadata": {},
   "outputs": [],
   "source": [
    "ll = 'statement of cases of gonorrhoeal and purulent ophthalmia treated in the       desmarres (u. s. army) eye and ear hospital, chicago, illinois, with special       report of treatment employed.'"
   ]
  },
  {
   "cell_type": "code",
   "execution_count": 108,
   "metadata": {},
   "outputs": [],
   "source": [
    "nl = ll"
   ]
  },
  {
   "cell_type": "code",
   "execution_count": 109,
   "metadata": {},
   "outputs": [
    {
     "data": {
      "text/plain": [
       "'employed'"
      ]
     },
     "execution_count": 109,
     "metadata": {},
     "output_type": "execute_result"
    }
   ],
   "source": [
    "nl[182:182+8]"
   ]
  },
  {
   "cell_type": "code",
   "execution_count": 110,
   "metadata": {},
   "outputs": [
    {
     "data": {
      "text/plain": [
       "'statement of cases of gonorrhoeal and purulent ophthalmia treated in the       desmarres (u. s. army) eye and ear hospital, chicago, illinois, with special       report of treatment C0557351.'"
      ]
     },
     "execution_count": 110,
     "metadata": {},
     "output_type": "execute_result"
    }
   ],
   "source": [
    "nl= nl[:182]+'C0557351'+nl[182+8:]\n",
    "nl"
   ]
  },
  {
   "cell_type": "code",
   "execution_count": 111,
   "metadata": {},
   "outputs": [
    {
     "data": {
      "text/plain": [
       "'statement of cases of gonorrhoeal and purulent ophthalmia treated in the       desmarres (u. s. army) eye and ear hospital, chicago, illinois, with special       report of C3538994 C0557351.'"
      ]
     },
     "execution_count": 111,
     "metadata": {},
     "output_type": "execute_result"
    }
   ],
   "source": [
    "nl = nl[:172] +'C3538994' +nl[172+9:]\n",
    "nl"
   ]
  },
  {
   "cell_type": "code",
   "execution_count": 112,
   "metadata": {},
   "outputs": [
    {
     "data": {
      "text/plain": [
       "'statement of cases of gonorrhoeal and purulent ophthalmia treated in the       desmarres (u. s. army) eye and ear hospital, chicago, illinois, with special       C0684224 of C3538994 C0557351.'"
      ]
     },
     "execution_count": 112,
     "metadata": {},
     "output_type": "execute_result"
    }
   ],
   "source": [
    "nl = nl[:162] +'C0684224' +nl[162+6:]\n",
    "nl"
   ]
  },
  {
   "cell_type": "code",
   "execution_count": 113,
   "metadata": {},
   "outputs": [
    {
     "data": {
      "text/plain": [
       "'statement of cases of gonorrhoeal and purulent ophthalmia treated in the       desmarres ('"
      ]
     },
     "execution_count": 113,
     "metadata": {},
     "output_type": "execute_result"
    }
   ],
   "source": [
    "nl[:90] "
   ]
  },
  {
   "cell_type": "code",
   "execution_count": 117,
   "metadata": {},
   "outputs": [
    {
     "data": {
      "text/plain": [
       "'s. army) eye and ear hospital, chicago, illinois, with special       C0684224 of C3538994 C0557351.'"
      ]
     },
     "execution_count": 117,
     "metadata": {},
     "output_type": "execute_result"
    }
   ],
   "source": [
    "nl[90+93-90:] "
   ]
  },
  {
   "cell_type": "code",
   "execution_count": 119,
   "metadata": {},
   "outputs": [
    {
     "data": {
      "text/plain": [
       "'u. s'"
      ]
     },
     "execution_count": 119,
     "metadata": {},
     "output_type": "execute_result"
    }
   ],
   "source": [
    "nl[90:93+1] "
   ]
  },
  {
   "cell_type": "code",
   "execution_count": null,
   "metadata": {},
   "outputs": [],
   "source": []
  },
  {
   "cell_type": "code",
   "execution_count": 28,
   "metadata": {},
   "outputs": [],
   "source": [
    "def mapSentenceWithCUI(sentence, ConceptValues, newsentence):\n",
    "    \"\"\"\n",
    "    :param sentence:  original sentence\n",
    "    :param values: conceptName and ConceptID\n",
    "    :param newsentence: modified sentence\n",
    "    :return: modified sentence mapped with new CUID\n",
    "    this func take original sentence and newsentence and based upon offset values in ConceptValues it maps CUIID(fromConceptValues)\n",
    "     in newsentence(which is return)\n",
    "    \"\"\"\n",
    "    conceptID = ConceptValues[0]\n",
    "    # offList = values[1]\n",
    "    worCount = 0\n",
    "    wordOff = []\n",
    "    try:\n",
    "\n",
    "        if (len(ConceptValues[1]) > 1):\n",
    "            \"\"\"this is the case when there is a list of several offset for single Conceptname\n",
    "            \"\"\"\n",
    "\n",
    "            for offValues in ConceptValues[1]:\n",
    "                wordOff.append(offValues[0])\n",
    "                worCount = offValues[1]\n",
    "        else:\n",
    "            \"\"\"this is the case when there one offset for single Conceptname\n",
    "            \"\"\"\n",
    "            wordOff.append(ConceptValues[1][0][0])\n",
    "            worCount = ConceptValues[1][0][1]\n",
    "\n",
    "    except Exception as e:\n",
    "        print('CUIMapping| Sentence-ConceptValues %s, %s | %s' % (sentence,ConceptValues, e))\n",
    "    word2replace = sentence[wordOff[0]:wordOff[-1] + worCount]\n",
    "    #if(word2replace in )\n",
    "\n",
    "    return newsentence.replace(sentence[wordOff[0]:wordOff[-1] + worCount], conceptID)\n"
   ]
  },
  {
   "cell_type": "code",
   "execution_count": 32,
   "metadata": {},
   "outputs": [
    {
     "data": {
      "text/plain": [
       "['16691646|ti.1| C1710187 of C0868928 of C0018081 and C0259800 C1522326 in the desmarres C0041703 C0680778 C0015392 and C0013443 C0019994 C0008044 C0020898 C0332287 C0205555 C0684224 of C0001554 C0557351 ']"
      ]
     },
     "execution_count": 32,
     "metadata": {},
     "output_type": "execute_result"
    }
   ],
   "source": [
    "CUIMapping(dd['16691646'],'16691646')"
   ]
  },
  {
   "cell_type": "code",
   "execution_count": 7,
   "metadata": {},
   "outputs": [],
   "source": [
    "ll='On the Necessity of Employing Greater Accuracy in Ascertaining and Expressing       the Degree of Acuteness of Vision.'"
   ]
  },
  {
   "cell_type": "code",
   "execution_count": 120,
   "metadata": {
    "collapsed": true
   },
   "outputs": [
    {
     "data": {
      "text/plain": [
       "['statement',\n",
       " 'of',\n",
       " 'cases',\n",
       " 'of',\n",
       " 'gonorrhoeal',\n",
       " 'and',\n",
       " 'purulent',\n",
       " 'ophthalmia',\n",
       " 'treated',\n",
       " 'in',\n",
       " 'the',\n",
       " 'desmarres',\n",
       " '(',\n",
       " 'u.',\n",
       " 's.',\n",
       " 'army',\n",
       " ')',\n",
       " 'eye',\n",
       " 'and',\n",
       " 'ear',\n",
       " 'hospital',\n",
       " ',',\n",
       " 'chicago',\n",
       " ',',\n",
       " 'illinois',\n",
       " ',',\n",
       " 'with',\n",
       " 'special',\n",
       " 'report',\n",
       " 'of',\n",
       " 'treatment',\n",
       " 'employed',\n",
       " '.']"
      ]
     },
     "execution_count": 120,
     "metadata": {},
     "output_type": "execute_result"
    }
   ],
   "source": [
    "word_tokenize(ll)"
   ]
  },
  {
   "cell_type": "code",
   "execution_count": 9,
   "metadata": {
    "collapsed": true
   },
   "outputs": [
    {
     "data": {
      "text/plain": [
       "['On',\n",
       " 'the',\n",
       " 'Necessity',\n",
       " 'of',\n",
       " 'Employing',\n",
       " 'Greater',\n",
       " 'Accuracy',\n",
       " 'in',\n",
       " 'Ascertaining',\n",
       " 'and',\n",
       " 'Expressing',\n",
       " '',\n",
       " '',\n",
       " '',\n",
       " '',\n",
       " '',\n",
       " '',\n",
       " 'the',\n",
       " 'Degree',\n",
       " 'of',\n",
       " 'Acuteness',\n",
       " 'of',\n",
       " 'Vision.']"
      ]
     },
     "execution_count": 9,
     "metadata": {},
     "output_type": "execute_result"
    }
   ],
   "source": [
    "ll.split(' ')"
   ]
  },
  {
   "cell_type": "code",
   "execution_count": 125,
   "metadata": {},
   "outputs": [],
   "source": [
    "newline = 'on the vision of'"
   ]
  },
  {
   "cell_type": "code",
   "execution_count": 127,
   "metadata": {},
   "outputs": [
    {
     "data": {
      "text/plain": [
       "'on the cux of'"
      ]
     },
     "execution_count": 127,
     "metadata": {},
     "output_type": "execute_result"
    }
   ],
   "source": [
    "newline[:7] +'cux'+newline[7+6:]"
   ]
  },
  {
   "cell_type": "code",
   "execution_count": 190,
   "metadata": {},
   "outputs": [],
   "source": [
    "def mapSentenceWithOffset(sentence, sortedConceptValues):\n",
    "    \"\"\"\n",
    "    takes and sentence and a list of sortedConceptValues, and it starts replace sentence from back for each value in sortedvalue\n",
    "    \n",
    "    \"\"\"\n",
    "    for pairValues in sortedConceptValues[::-1]: #reverse Order\n",
    "        CUID = pairValues[1][0] #get CUID(C1720176) from  this tuple ('On', ['C1720176', [(0, 2)]])\n",
    "        offSetValues = pairValues[1][1]  # (U_S ['C0041703', [(90, 1), (93, 1)]])\n",
    "        #if len(offSetValues)>1:          #[(90, 1), (93, 1)]\n",
    "        startOffset = offSetValues[0][0] #90\n",
    "        endOffset = offSetValues[-1][0]   #93\n",
    "        lastWordLen = offSetValues[-1][1] #1\n",
    "        #nl[:162] +'C0684224' +nl[162+6:]\n",
    "            \n",
    "        sentence = sentence[:startOffset]+CUID+sentence[endOffset+lastWordLen:]\n",
    "    \n",
    "    return sentence"
   ]
  },
  {
   "cell_type": "code",
   "execution_count": 176,
   "metadata": {},
   "outputs": [],
   "source": [
    "def sortingConceptValues(ConceptValueList):\n",
    "    \"\"\"\n",
    "    return a sorted ConceptValueList based upon last tuple offset values\n",
    "    \"\"\"\n",
    "    return sorted(ConceptValueList, key=lambda  k:k[1][1][-1])\n",
    "    "
   ]
  },
  {
   "cell_type": "code",
   "execution_count": null,
   "metadata": {},
   "outputs": [],
   "source": []
  },
  {
   "cell_type": "code",
   "execution_count": 191,
   "metadata": {},
   "outputs": [],
   "source": [
    " def CUIMapping(dictValue,pmID):\n",
    "    \"\"\"\n",
    "    :param dictValue: values for a PMID from SRC2\n",
    "    :return:   for given PMID ,sentence ID  and all CUI mapped sentences\n",
    "    example : for completeDict['16691646']\n",
    "    (OrderedDict([('ti.1 | Statement of Cases of Gonorrhoeal and Purulent Ophthalmia treated in the       Desmarres (U. S. Army) Eye and Ear Hospital, Chicago, Illinois, with Special       Report of Treatment Employed.',\n",
    "               OrderedDict([('Statement', ['C1710187', [(0, 9)]]),\n",
    "                            ('Cases', ['C0868928', [(13, 5)]]),\n",
    "                            ('GONORRHEA', ['C0018081', [(22, 11)]]),\n",
    "                            ('treatment_nos', ['C0001554', [(172, 9)]]),\n",
    "                            ('Employed', ['C0557351', [(182, 8)]])]))]),\n",
    " 'C1710187 of C0868928 of C0018081 and C0259800 C1522326 in the       desmarres (C0041703. C0680778) C0015392 and C0013443 C0019994, C0008044, C0020898, C0332287 C0205555       C0684224 of C0001554 C0557351.')\n",
    "    \"\"\"\n",
    "    newSentenceList = []\n",
    "    if(pmID =='16691654'):\n",
    "        print(pmID)\n",
    "    for setencekey in dictValue:  # completeDict['16691646']\n",
    "        try:\n",
    "\n",
    "            setenceID = setencekey.split('|')[0].strip(' ')\n",
    "            sentence = setencekey.split('|')[1].strip(' ').lower()\n",
    "            #newsentence = sentence\n",
    "            \"\"\"for conceptName, values in dictValue[setencekey].items():\n",
    "                newsentence = mapSentenceWithCUI(sentence, values, newsentence)\"\"\"\n",
    "            ConceptAttributes = dictValue[setencekey]\n",
    "            varX = list(ConceptAttributes.items())\n",
    "            sortedConceptAttributes = sortingConceptValues(varX)\n",
    "            \n",
    "            newsentence = mapSentenceWithOffset(sentence,sortedConceptAttributes)\n",
    "            modifiedSentence = re.sub('\\W+', ' ', newsentence)\n",
    "            newSentenceList.append(str(pmID)+'|'+setenceID+'| '+modifiedSentence)\n",
    "\n",
    "        except Exception as e:\n",
    "            print('CUIMapping| pmID %s| %s' % (pmID, e))\n",
    "\n",
    "    return  newSentenceList"
   ]
  },
  {
   "cell_type": "code",
   "execution_count": 192,
   "metadata": {},
   "outputs": [
    {
     "data": {
      "text/plain": [
       "['16691646|ti.1| C1710187 of cC0868928oC0018081al and pC0259800treated in tC1522326 desmarres u s army C00417C06807C1280202C052C151066539C0008044hC0020898 cC0332C0205555illinoC0684224thC3538994 C0557351of treatment employed ']"
      ]
     },
     "execution_count": 192,
     "metadata": {},
     "output_type": "execute_result"
    }
   ],
   "source": [
    "CUIMapping(dd['16691646'],'16691646')"
   ]
  },
  {
   "cell_type": "code",
   "execution_count": null,
   "metadata": {},
   "outputs": [],
   "source": []
  },
  {
   "cell_type": "code",
   "execution_count": 196,
   "metadata": {},
   "outputs": [],
   "source": [
    "ConceptAttributes = dd['16691646']['ti.1 | Statement of Cases of Gonorrhoeal and Purulent Ophthalmia treated in the       Desmarres (U. S. Army) Eye and Ear Hospital, Chicago, Illinois, with Special       Report of Treatment Employed.']\n",
    "varX = list(ConceptAttributes.items())\n",
    "sortedConceptAttributes = sortingConceptValues(varX)"
   ]
  },
  {
   "cell_type": "code",
   "execution_count": 197,
   "metadata": {},
   "outputs": [
    {
     "data": {
      "text/plain": [
       "[('Statement', ['C1710187', [(0, 9)]]),\n",
       " ('Cases', ['C0868928', [(13, 5)]]),\n",
       " ('GONORRHEA', ['C0018081', [(22, 11)]]),\n",
       " ('purulent_ophthalmia', ['C0259800', [(38, 19)]]),\n",
       " ('Treated', ['C1522326', [(58, 7)]]),\n",
       " ('U_S', ['C0041703', [(90, 1), (93, 1)]]),\n",
       " ('Army', ['C0680778', [(96, 4)]]),\n",
       " ('EYE', ['C0015392', [(102, 3)]]),\n",
       " ('?Eye', ['C1280202', [(102, 3)]]),\n",
       " ('EAR', ['C0013443', [(110, 3)]]),\n",
       " ('Ear', ['C0521421', [(110, 3)]]),\n",
       " ('HOSPITAL', ['C0019994', [(114, 8)]]),\n",
       " ('Hospital', ['C1510665', [(114, 8)]]),\n",
       " ('Chicago', ['C0008044', [(124, 7)]]),\n",
       " ('Illinois', ['C0020898', [(133, 8)]]),\n",
       " ('With', ['C0332287', [(143, 4)]]),\n",
       " ('Special', ['C0205555', [(148, 7)]]),\n",
       " ('Report', ['C0684224', [(162, 6)]]),\n",
       " ('treatment_nos', ['C0001554', [(172, 9)]]),\n",
       " ('treatment', ['C0039798', [(172, 9)]]),\n",
       " ('Treatment', ['C0087111', [(172, 9)]]),\n",
       " ('TREATMENT', ['C3538994', [(172, 9)]]),\n",
       " ('Employed', ['C0557351', [(182, 8)]])]"
      ]
     },
     "execution_count": 197,
     "metadata": {},
     "output_type": "execute_result"
    }
   ],
   "source": [
    "sortedConceptAttributes"
   ]
  },
  {
   "cell_type": "code",
   "execution_count": 198,
   "metadata": {
    "collapsed": true
   },
   "outputs": [
    {
     "data": {
      "text/plain": [
       "[('Employed', ['C0557351', [(182, 8)]]),\n",
       " ('TREATMENT', ['C3538994', [(172, 9)]]),\n",
       " ('Treatment', ['C0087111', [(172, 9)]]),\n",
       " ('treatment', ['C0039798', [(172, 9)]]),\n",
       " ('treatment_nos', ['C0001554', [(172, 9)]]),\n",
       " ('Report', ['C0684224', [(162, 6)]]),\n",
       " ('Special', ['C0205555', [(148, 7)]]),\n",
       " ('With', ['C0332287', [(143, 4)]]),\n",
       " ('Illinois', ['C0020898', [(133, 8)]]),\n",
       " ('Chicago', ['C0008044', [(124, 7)]]),\n",
       " ('Hospital', ['C1510665', [(114, 8)]]),\n",
       " ('HOSPITAL', ['C0019994', [(114, 8)]]),\n",
       " ('Ear', ['C0521421', [(110, 3)]]),\n",
       " ('EAR', ['C0013443', [(110, 3)]]),\n",
       " ('?Eye', ['C1280202', [(102, 3)]]),\n",
       " ('EYE', ['C0015392', [(102, 3)]]),\n",
       " ('Army', ['C0680778', [(96, 4)]]),\n",
       " ('U_S', ['C0041703', [(90, 1), (93, 1)]]),\n",
       " ('Treated', ['C1522326', [(58, 7)]]),\n",
       " ('purulent_ophthalmia', ['C0259800', [(38, 19)]]),\n",
       " ('GONORRHEA', ['C0018081', [(22, 11)]]),\n",
       " ('Cases', ['C0868928', [(13, 5)]]),\n",
       " ('Statement', ['C1710187', [(0, 9)]])]"
      ]
     },
     "execution_count": 198,
     "metadata": {},
     "output_type": "execute_result"
    }
   ],
   "source": [
    "sortedConceptAttributes[::-1]"
   ]
  },
  {
   "cell_type": "code",
   "execution_count": 199,
   "metadata": {},
   "outputs": [
    {
     "name": "stdout",
     "output_type": "stream",
     "text": [
      "statement of cases of gonorrhoeal and purulent ophthalmia treated in the       desmarres (u. s. army) eye and ear hospital, chicago, illinois, with special       report of treatment C0557351.\n",
      "statement of cases of gonorrhoeal and purulent ophthalmia treated in the       desmarres (u. s. army) eye and ear hospital, chicago, illinois, with special       report of C3538994 C0557351.\n",
      "statement of cases of gonorrhoeal and purulent ophthalmia treated in the       desmarres (u. s. army) eye and ear hospital, chicago, illinois, with special       report of C0087111C0557351.\n",
      "statement of cases of gonorrhoeal and purulent ophthalmia treated in the       desmarres (u. s. army) eye and ear hospital, chicago, illinois, with special       report of C00397980557351.\n",
      "statement of cases of gonorrhoeal and purulent ophthalmia treated in the       desmarres (u. s. army) eye and ear hospital, chicago, illinois, with special       report of C0001554557351.\n",
      "statement of cases of gonorrhoeal and purulent ophthalmia treated in the       desmarres (u. s. army) eye and ear hospital, chicago, illinois, with special       C0684224 of C0001554557351.\n",
      "statement of cases of gonorrhoeal and purulent ophthalmia treated in the       desmarres (u. s. army) eye and ear hospital, chicago, illinois, with C0205555       C0684224 of C0001554557351.\n",
      "statement of cases of gonorrhoeal and purulent ophthalmia treated in the       desmarres (u. s. army) eye and ear hospital, chicago, illinois, C0332287 C0205555       C0684224 of C0001554557351.\n",
      "statement of cases of gonorrhoeal and purulent ophthalmia treated in the       desmarres (u. s. army) eye and ear hospital, chicago, C0020898, C0332287 C0205555       C0684224 of C0001554557351.\n",
      "statement of cases of gonorrhoeal and purulent ophthalmia treated in the       desmarres (u. s. army) eye and ear hospital, C0008044, C0020898, C0332287 C0205555       C0684224 of C0001554557351.\n",
      "statement of cases of gonorrhoeal and purulent ophthalmia treated in the       desmarres (u. s. army) eye and ear C1510665, C0008044, C0020898, C0332287 C0205555       C0684224 of C0001554557351.\n",
      "statement of cases of gonorrhoeal and purulent ophthalmia treated in the       desmarres (u. s. army) eye and ear C0019994, C0008044, C0020898, C0332287 C0205555       C0684224 of C0001554557351.\n",
      "statement of cases of gonorrhoeal and purulent ophthalmia treated in the       desmarres (u. s. army) eye and C0521421 C0019994, C0008044, C0020898, C0332287 C0205555       C0684224 of C0001554557351.\n",
      "statement of cases of gonorrhoeal and purulent ophthalmia treated in the       desmarres (u. s. army) eye and C001344321421 C0019994, C0008044, C0020898, C0332287 C0205555       C0684224 of C0001554557351.\n",
      "statement of cases of gonorrhoeal and purulent ophthalmia treated in the       desmarres (u. s. army) C1280202 and C001344321421 C0019994, C0008044, C0020898, C0332287 C0205555       C0684224 of C0001554557351.\n",
      "statement of cases of gonorrhoeal and purulent ophthalmia treated in the       desmarres (u. s. army) C001539280202 and C001344321421 C0019994, C0008044, C0020898, C0332287 C0205555       C0684224 of C0001554557351.\n",
      "statement of cases of gonorrhoeal and purulent ophthalmia treated in the       desmarres (u. s. C0680778) C001539280202 and C001344321421 C0019994, C0008044, C0020898, C0332287 C0205555       C0684224 of C0001554557351.\n",
      "statement of cases of gonorrhoeal and purulent ophthalmia treated in the       desmarres (C0041703. C0680778) C001539280202 and C001344321421 C0019994, C0008044, C0020898, C0332287 C0205555       C0684224 of C0001554557351.\n",
      "statement of cases of gonorrhoeal and purulent ophthalmia C1522326 in the       desmarres (C0041703. C0680778) C001539280202 and C001344321421 C0019994, C0008044, C0020898, C0332287 C0205555       C0684224 of C0001554557351.\n",
      "statement of cases of gonorrhoeal and C0259800 C1522326 in the       desmarres (C0041703. C0680778) C001539280202 and C001344321421 C0019994, C0008044, C0020898, C0332287 C0205555       C0684224 of C0001554557351.\n",
      "statement of cases of C0018081 and C0259800 C1522326 in the       desmarres (C0041703. C0680778) C001539280202 and C001344321421 C0019994, C0008044, C0020898, C0332287 C0205555       C0684224 of C0001554557351.\n",
      "statement of C0868928 of C0018081 and C0259800 C1522326 in the       desmarres (C0041703. C0680778) C001539280202 and C001344321421 C0019994, C0008044, C0020898, C0332287 C0205555       C0684224 of C0001554557351.\n",
      "C1710187 of C0868928 of C0018081 and C0259800 C1522326 in the       desmarres (C0041703. C0680778) C001539280202 and C001344321421 C0019994, C0008044, C0020898, C0332287 C0205555       C0684224 of C0001554557351.\n"
     ]
    }
   ],
   "source": [
    " for pairValues in sortedConceptAttributes[::-1]:\n",
    "        CUID = pairValues[1][0] #get CUID(C1720176) from  this tuple ('On', ['C1720176', [(0, 2)]])\n",
    "        offSetValues = pairValues[1][1]  # (U_S ['C0041703', [(90, 1), (93, 1)]])\n",
    "        #if len(offSetValues)>1:          #[(90, 1), (93, 1)]\n",
    "        startOffset = offSetValues[0][0] #90\n",
    "        endOffset = offSetValues[-1][0]   #93\n",
    "        lastWordLen = offSetValues[-1][1] #1\n",
    "        #nl[:162] +'C0684224' +nl[162+6:]\n",
    "            \n",
    "        sentence = sentence[:startOffset]+CUID+sentence[endOffset+lastWordLen:]\n",
    "        print(sentence)"
   ]
  },
  {
   "cell_type": "code",
   "execution_count": null,
   "metadata": {},
   "outputs": [],
   "source": []
  }
 ],
 "metadata": {
  "kernelspec": {
   "display_name": "Python 3",
   "language": "python",
   "name": "python3"
  },
  "language_info": {
   "codemirror_mode": {
    "name": "ipython",
    "version": 3
   },
   "file_extension": ".py",
   "mimetype": "text/x-python",
   "name": "python",
   "nbconvert_exporter": "python",
   "pygments_lexer": "ipython3",
   "version": "3.5.5"
  }
 },
 "nbformat": 4,
 "nbformat_minor": 2
}
